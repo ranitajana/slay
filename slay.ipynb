{
 "cells": [
  {
   "cell_type": "markdown",
   "id": "1c9dce5e-503a-4212-b676-70f9bfd08fae",
   "metadata": {},
   "source": [
    "#### This code takes input the Youtube URL of a lecture and a list of lesson plans and gives a structured lecture notes based on the key concepts (derived from the lesson plan)"
   ]
  },
  {
   "cell_type": "code",
   "execution_count": 1,
   "id": "76627a28-8fe2-40f9-a146-f107c4b10ada",
   "metadata": {},
   "outputs": [],
   "source": [
    "import functions as funcs"
   ]
  },
  {
   "cell_type": "markdown",
   "id": "c3d2a168-4940-4ba7-a069-e75d72f38d3a",
   "metadata": {},
   "source": [
    "#### Enter the Youtube URL here"
   ]
  },
  {
   "cell_type": "code",
   "execution_count": 2,
   "id": "795da039-f53a-4251-8af1-6db869acdc22",
   "metadata": {},
   "outputs": [],
   "source": [
    "youtube_url = 'https://www.youtube.com/watch?v=gaoxXFju6uo&t=1'"
   ]
  },
  {
   "cell_type": "markdown",
   "id": "854e5840-90f1-476e-837d-d88346429f32",
   "metadata": {},
   "source": [
    "#### Input audio file and lesson plan"
   ]
  },
  {
   "cell_type": "code",
   "execution_count": 3,
   "id": "623838a0-a2fd-404c-a988-a400e0122413",
   "metadata": {},
   "outputs": [],
   "source": [
    "lesson_plan = 'Outline your speech in memory friendly form, Write out everything on paper (or computer), Subvocalize your speech without using visual cues, Memorize the first and last sentences word for word'"
   ]
  },
  {
   "cell_type": "markdown",
   "id": "244e7bb6-4ae8-43f0-9162-89c5517595e3",
   "metadata": {},
   "source": [
    "#### Call Deepgram for speech to text conversion"
   ]
  },
  {
   "cell_type": "code",
   "execution_count": 4,
   "id": "02868ff0-d89a-439c-89d1-ce12846be7d2",
   "metadata": {},
   "outputs": [],
   "source": [
    "transcript, words = funcs.speech_to_text(youtube_url)"
   ]
  },
  {
   "cell_type": "markdown",
   "id": "1b50143d-c39c-4dd0-9137-6f1c8ac2c19e",
   "metadata": {},
   "source": [
    "#### Generate structured lecture notes"
   ]
  },
  {
   "cell_type": "code",
   "execution_count": 5,
   "id": "5bc5d288-5c11-4f83-998b-fbf1d44497a1",
   "metadata": {
    "scrolled": true
   },
   "outputs": [],
   "source": [
    "srt_subtitles = funcs.subtitle(transcript, words)\n",
    "notes = funcs.lecture_notes(lesson_plan, srt_subtitles)"
   ]
  },
  {
   "cell_type": "code",
   "execution_count": 6,
   "id": "4df7e0a9-7cec-4549-987f-29e793070680",
   "metadata": {
    "scrolled": true
   },
   "outputs": [
    {
     "name": "stdout",
     "output_type": "stream",
     "text": [
      "Outline your speech in memory friendly form (00:00:29.625 - 00:01:35.770):\n",
      "The first step in preparing for a speech is to create an outline that is easy to remember. This involves breaking down your speech into 3 to 5 key bullet points that flow logically from one to another. By chunking the information in this way, you can avoid the need for rote memorization and instead allow the speech to naturally flow from you. This approach helps you stay authentic and engaging while delivering your message effectively.\n",
      "\n",
      "Write out everything on paper (or computer) (00:02:33.970 - 00:04:02.400):\n",
      "Once you have your outline, the next step is to flesh out each bullet point with relevant details, stories, and supporting information. This process not only helps you communicate your main points effectively but also allows you to refine and edit your speech for clarity and coherence. By putting everything down on paper, you can ensure that your speech is well-structured and engaging for your audience.\n",
      "\n",
      "Subvocalize your speech without using visual cues (00:04:02.400 - 00:05:56.020):\n",
      "After writing out your speech, it's important to practice subvocalizing it without relying on visual cues. This means going through your speech, referencing your bullet points, and whispering the content to yourself. By doing this without visual aids, you train yourself to deliver the speech confidently and naturally, ensuring that you can maintain your flow even if external cues are unavailable. This practice helps you internalize the content and connect the key points seamlessly.\n",
      "\n",
      "Memorize the first and last sentences word for word (00:05:56.020 - 00:07:09.151):\n",
      "To make a strong impact on your audience, focus on memorizing the first and last sentences of your speech. The first sentence should be attention-grabbing and set the tone for your presentation, while the last sentence should provide a sense of closure and leave a lasting impression. By memorizing these key sentences, you can start and end your speech confidently, ensuring that your message resonates with your listeners. This approach helps you maintain control and engagement throughout your presentation.\n"
     ]
    }
   ],
   "source": [
    "print(notes)"
   ]
  },
  {
   "cell_type": "markdown",
   "id": "4bb7b53c-5759-4019-97e3-f9805ca09ec9",
   "metadata": {},
   "source": [
    "#### Generate Quiz "
   ]
  },
  {
   "cell_type": "code",
   "execution_count": 7,
   "id": "a16f0138-acc8-407a-aef4-7d8918770ece",
   "metadata": {},
   "outputs": [],
   "source": [
    "questions = funcs.ask_ques(notes)\n",
    "ques, ans = funcs.save_ques(questions)"
   ]
  },
  {
   "cell_type": "code",
   "execution_count": 8,
   "id": "e1b9eb60-b5dc-461b-8ff4-35594da19322",
   "metadata": {},
   "outputs": [
    {
     "name": "stdout",
     "output_type": "stream",
     "text": [
      "Question: What is the first step in preparing for a speech?\n",
      "1. Creating an outline\n",
      "2. Writing out everything on paper\n",
      "3. Subvocalizing the speech\n",
      "4. Memorizing the first and last sentences\n",
      "\n",
      "\n",
      "Question: How many key bullet points should an outline for a speech typically have?\n",
      "1. 2-3\n",
      "2. 3-5\n",
      "3. 5-7\n",
      "4. 7-10\n",
      "\n",
      "\n",
      "Question: What is the purpose of fleshing out each bullet point with details and stories?\n",
      "1. To confuse the audience\n",
      "2. To make the speech longer\n",
      "3. To communicate main points effectively\n",
      "4. To skip important information\n",
      "\n",
      "\n",
      "Question: Why is it important to practice subvocalizing the speech without visual cues?\n",
      "1. To rely on visual aids\n",
      "2. To deliver the speech confidently and naturally\n",
      "3. To distract the audience\n",
      "4. To avoid practicing\n",
      "\n",
      "\n",
      "Question: Which sentences should be memorized word for word for a strong impact on the audience?\n",
      "1. The middle sentences\n",
      "2. The first and last sentences\n",
      "3. The closing sentences\n",
      "4. Random sentences\n",
      "\n",
      "\n",
      "Correct answer: The first and last sentences \n",
      "\n"
     ]
    }
   ],
   "source": [
    "funcs.show_quiz(ques, ans)"
   ]
  }
 ],
 "metadata": {
  "kernelspec": {
   "display_name": "Python 3 (ipykernel)",
   "language": "python",
   "name": "python3"
  },
  "language_info": {
   "codemirror_mode": {
    "name": "ipython",
    "version": 3
   },
   "file_extension": ".py",
   "mimetype": "text/x-python",
   "name": "python",
   "nbconvert_exporter": "python",
   "pygments_lexer": "ipython3",
   "version": "3.11.7"
  }
 },
 "nbformat": 4,
 "nbformat_minor": 5
}
