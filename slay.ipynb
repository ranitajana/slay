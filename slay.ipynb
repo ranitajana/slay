{
 "cells": [
  {
   "cell_type": "markdown",
   "id": "1c9dce5e-503a-4212-b676-70f9bfd08fae",
   "metadata": {},
   "source": [
    "#### This code takes input the Youtube URL of a lecture and a list of lesson plans and gives a structured lecture notes based on the key concepts (derived from the lesson plan)"
   ]
  },
  {
   "cell_type": "code",
   "execution_count": null,
   "id": "76627a28-8fe2-40f9-a146-f107c4b10ada",
   "metadata": {},
   "outputs": [],
   "source": [
    "import functions as funcs"
   ]
  },
  {
   "cell_type": "markdown",
   "id": "c3d2a168-4940-4ba7-a069-e75d72f38d3a",
   "metadata": {},
   "source": [
    "#### Enter the Youtube URL of lecture"
   ]
  },
  {
   "cell_type": "code",
   "execution_count": null,
   "id": "795da039-f53a-4251-8af1-6db869acdc22",
   "metadata": {},
   "outputs": [],
   "source": [
    "youtube_url = 'https://www.youtube.com/watch?v=gaoxXFju6uo&t=1'"
   ]
  },
  {
   "cell_type": "markdown",
   "id": "854e5840-90f1-476e-837d-d88346429f32",
   "metadata": {},
   "source": [
    "#### Input lesson plan"
   ]
  },
  {
   "cell_type": "code",
   "execution_count": null,
   "id": "623838a0-a2fd-404c-a988-a400e0122413",
   "metadata": {},
   "outputs": [],
   "source": [
    "lesson_plan = 'Outline your speech in memory friendly form, Write out everything on paper (or computer), Subvocalize your speech without using visual cues, Memorize the first and last sentences word for word'"
   ]
  },
  {
   "cell_type": "markdown",
   "id": "244e7bb6-4ae8-43f0-9162-89c5517595e3",
   "metadata": {},
   "source": [
    "#### Call Deepgram for speech to text conversion"
   ]
  },
  {
   "cell_type": "code",
   "execution_count": null,
   "id": "02868ff0-d89a-439c-89d1-ce12846be7d2",
   "metadata": {},
   "outputs": [],
   "source": [
    "transcript, words = funcs.speech_to_text(youtube_url)"
   ]
  },
  {
   "cell_type": "markdown",
   "id": "1b50143d-c39c-4dd0-9137-6f1c8ac2c19e",
   "metadata": {},
   "source": [
    "#### Generate structured lecture notes"
   ]
  },
  {
   "cell_type": "code",
   "execution_count": null,
   "id": "5bc5d288-5c11-4f83-998b-fbf1d44497a1",
   "metadata": {
    "scrolled": true
   },
   "outputs": [],
   "source": [
    "srt_subtitles = funcs.subtitle(transcript, words)\n",
    "notes = funcs.lecture_notes(lesson_plan, srt_subtitles)"
   ]
  },
  {
   "cell_type": "code",
   "execution_count": null,
   "id": "4df7e0a9-7cec-4549-987f-29e793070680",
   "metadata": {
    "scrolled": true
   },
   "outputs": [],
   "source": [
    "print(notes)"
   ]
  },
  {
   "cell_type": "markdown",
   "id": "4bb7b53c-5759-4019-97e3-f9805ca09ec9",
   "metadata": {},
   "source": [
    "#### Generate Quiz "
   ]
  },
  {
   "cell_type": "code",
   "execution_count": null,
   "id": "a16f0138-acc8-407a-aef4-7d8918770ece",
   "metadata": {},
   "outputs": [],
   "source": [
    "questions = funcs.ask_ques(notes)\n",
    "ques, ans = funcs.save_ques(questions)"
   ]
  },
  {
   "cell_type": "code",
   "execution_count": null,
   "id": "e1b9eb60-b5dc-461b-8ff4-35594da19322",
   "metadata": {},
   "outputs": [],
   "source": [
    "funcs.show_quiz(ques, ans)"
   ]
  }
 ],
 "metadata": {
  "kernelspec": {
   "display_name": "Python 3 (ipykernel)",
   "language": "python",
   "name": "python3"
  },
  "language_info": {
   "codemirror_mode": {
    "name": "ipython",
    "version": 3
   },
   "file_extension": ".py",
   "mimetype": "text/x-python",
   "name": "python",
   "nbconvert_exporter": "python",
   "pygments_lexer": "ipython3",
   "version": "3.11.7"
  }
 },
 "nbformat": 4,
 "nbformat_minor": 5
}
