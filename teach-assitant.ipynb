{
 "cells": [
  {
   "cell_type": "markdown",
   "id": "1c9dce5e-503a-4212-b676-70f9bfd08fae",
   "metadata": {},
   "source": [
    "#### This code takes input the Youtube URL of a lecture and a list of lesson plans and gives a structured lecture notes based on the key concepts (derived from the lesson plan)"
   ]
  },
  {
   "cell_type": "code",
   "execution_count": 1,
   "id": "76627a28-8fe2-40f9-a146-f107c4b10ada",
   "metadata": {},
   "outputs": [],
   "source": [
    "import functions as funcs"
   ]
  },
  {
   "cell_type": "markdown",
   "id": "c3d2a168-4940-4ba7-a069-e75d72f38d3a",
   "metadata": {},
   "source": [
    "#### Enter the Youtube URL here"
   ]
  },
  {
   "cell_type": "code",
   "execution_count": 2,
   "id": "795da039-f53a-4251-8af1-6db869acdc22",
   "metadata": {},
   "outputs": [
    {
     "name": "stdout",
     "output_type": "stream",
     "text": [
      "Downloading audio: How To ACTUALLY Deliver A Great Presentation\n",
      "Audio downloaded successfully!\n"
     ]
    }
   ],
   "source": [
    "#7 min\n",
    "youtube_url = 'https://www.youtube.com/watch?v=gaoxXFju6uo&t=1'\n",
    "# 18 min\n",
    "# youtube_url = 'https://www.youtube.com/watch?v=I4T--ycOpi0&t=63s'\n",
    "# 1 hr\n",
    "# youtube_url = 'https://www.youtube.com/watch?v=zjkBMFhNj_g'\n",
    "funcs.download_audio(youtube_url)"
   ]
  },
  {
   "cell_type": "markdown",
   "id": "854e5840-90f1-476e-837d-d88346429f32",
   "metadata": {},
   "source": [
    "#### Input audio file and lesson plan"
   ]
  },
  {
   "cell_type": "code",
   "execution_count": 3,
   "id": "623838a0-a2fd-404c-a988-a400e0122413",
   "metadata": {},
   "outputs": [],
   "source": [
    "input_audio = 'audio.mp3'\n",
    "lesson_plan = ['Outline your speech in memory friendly form', \n",
    "               'Write out everything on paper (or computer)',\n",
    "              'Subvocalize your speech without using visual cues', \n",
    "               'Memorize the first and last sentences word for word']\n",
    "# lesson_plan = ['Intro to OpenAI gpt 3.5 turbo model', \n",
    "#                'OpenAI GPT-3.5 Pricing difference vs GPT-3.0',\n",
    "#                'OpenAI GPT 3.5 models summary',\n",
    "#                'Sign up for an OpenAI account',\n",
    "#                'Create an OpenAI API Key',\n",
    "#                'Create Python script',\n",
    "#                'Install OpenAI Python package',\n",
    "#                'open.ChatCompletion library usage',\n",
    "#                'Track ChatGPT conversation',\n",
    "#                'Make the Python script runs like ChatGPT'\n",
    "#               ]\n",
    "\n",
    "# lesson_plan = ['Intro: Large Language Model (LLM) talk',\n",
    "#         'LLM Inference', 'LLM Training', 'LLM dreams', 'How LLM works?', \n",
    "#         'Finetuning into an Assistant',\n",
    "#         'Appendix: Comparisons, Labeling docs, RLHF, Synthetic data, Leaderboard',\n",
    "#         'LLM Scaling Laws', 'Tool Use (Browser, Calculator, Interpreter, DALL-E)'\n",
    "#         'Multimodality (Vision, Audio)',\n",
    "#         'Thinking, System 1/2','Self-improvement, LLM AlphaGo',\n",
    "#         'LLM Customization','GPTs store','LLM OS',\n",
    "#         'LLM Security Intro','Jailbreaks','Prompt Injection','Data poisoning','LLM Security conclusions']"
   ]
  },
  {
   "cell_type": "markdown",
   "id": "244e7bb6-4ae8-43f0-9162-89c5517595e3",
   "metadata": {},
   "source": [
    "#### Call Deepgram for speech to text conversion"
   ]
  },
  {
   "cell_type": "code",
   "execution_count": 4,
   "id": "02868ff0-d89a-439c-89d1-ce12846be7d2",
   "metadata": {},
   "outputs": [],
   "source": [
    "transcript, words = funcs.speech_to_text(input_audio)\n",
    "# funcs.save_transcript(transcript)"
   ]
  },
  {
   "cell_type": "code",
   "execution_count": 5,
   "id": "5bc5d288-5c11-4f83-998b-fbf1d44497a1",
   "metadata": {
    "scrolled": true
   },
   "outputs": [
    {
     "name": "stdout",
     "output_type": "stream",
     "text": [
      "Outline your speech in memory friendly form\n",
      "00:00:29.721 - 00:01:35.926\n",
      "The first step in preparing for a speech is to create an outline that is easy to remember. This involves breaking down your speech into 3 to 5 key bullet points that flow logically from one to another. By chunking the information in a way that is manageable for your short-term memory, you can ensure that your speech is coherent and easy to recall.\n",
      "\n",
      "Write out everything on paper (or computer)\n",
      "00:02:01.908 - 00:04:19.772\n",
      "Once you have your outline, the next step is to flesh out your speech by writing down all the details, stories, and additional information under each bullet point. This process helps you clarify your main points and identify any unnecessary details that can be omitted. It is important to avoid memorizing the entire speech word for word but rather focus on understanding and communicating the key ideas effectively.\n",
      "\n",
      "Subvocalize your speech without using visual cues\n",
      "00:04:19.772 - 00:05:56.586\n",
      "Subvocalization involves going through your speech while whispering the main points to yourself without relying on visual aids. This practice helps you internalize the content and ensure that you can deliver the speech confidently without being dependent on notes or slides. By focusing on the key points and the flow of your speech, you can enhance your delivery and engage your audience effectively.\n",
      "\n",
      "Memorize the first and last sentences word for word\n",
      "00:05:56.586 - 00:07:09.026\n",
      "To make a strong impact on your audience, it is crucial to memorize the first and last sentences of your speech. The first sentence should grab the audience's attention and set the tone for your presentation, while the last sentence should provide a clear conclusion and leave a lasting impression. By mastering these key elements, you can confidently deliver your speech and ensure that your message resonates with your listeners.\n"
     ]
    }
   ],
   "source": [
    "srt_subtitles = funcs.subtitle(transcript, words)\n",
    "# print(srt_subtitles)\n",
    "notes = funcs.lecture_notes(lesson_plan, srt_subtitles)\n",
    "print(notes)"
   ]
  },
  {
   "cell_type": "code",
   "execution_count": 6,
   "id": "a16f0138-acc8-407a-aef4-7d8918770ece",
   "metadata": {},
   "outputs": [],
   "source": [
    "questions = funcs.ask_ques(notes)\n",
    "# ques, ans = funcs.save_ques(questions)"
   ]
  },
  {
   "cell_type": "code",
   "execution_count": null,
   "id": "af85dd6a-c5cc-443f-988d-639ba922b9fd",
   "metadata": {},
   "outputs": [],
   "source": [
    "ques, ans = funcs.save_ques(questions)"
   ]
  },
  {
   "cell_type": "code",
   "execution_count": 31,
   "id": "c9eb60a0-ba78-4091-b968-d58e55fc5b13",
   "metadata": {
    "jupyter": {
     "source_hidden": true
    }
   },
   "outputs": [],
   "source": [
    "import json\n",
    "import numpy as np\n",
    "\n",
    "parsed_data = json.loads(questions)\n",
    "\n",
    "# Initialize lists to store questions, options, and answers\n",
    "questions_options = []\n",
    "answers = []\n",
    "\n",
    "# Iterate over each question\n",
    "for question_data in parsed_data['questions']:\n",
    "    question = question_data['question']\n",
    "    options = question_data['options']\n",
    "    answer = question_data['answer']\n",
    "\n",
    "    # Append a tuple containing the question and options to the questions_options list\n",
    "    questions_options.append((question, options))\n",
    "    # Append the answer to the answers list\n",
    "    answers.append(answer)\n"
   ]
  },
  {
   "cell_type": "code",
   "execution_count": 33,
   "id": "b752f572-f330-4278-b7e4-afb496532598",
   "metadata": {},
   "outputs": [
    {
     "name": "stdout",
     "output_type": "stream",
     "text": [
      "('What is the first step in creating an outline for your speech?', ['A. Writing out everything on paper', 'B. Memorizing the first and last sentences', 'C. Chunking information into manageable sections', 'D. Subvocalizing the speech without visual cues'])\n",
      "['C. Chunking information into manageable sections', 'B. To ensure you have a comprehensive understanding', 'B. Whispering to yourself without visual cues', 'B. To create a strong opening and closing', 'B. To maintain structure and confidence']\n"
     ]
    }
   ],
   "source": [
    "print(questions_options[0])\n",
    "print(answers)"
   ]
  },
  {
   "cell_type": "code",
   "execution_count": null,
   "id": "3e17c6b2-eff4-4e8f-b27c-858ade3a196f",
   "metadata": {},
   "outputs": [],
   "source": []
  }
 ],
 "metadata": {
  "kernelspec": {
   "display_name": "Python 3 (ipykernel)",
   "language": "python",
   "name": "python3"
  },
  "language_info": {
   "codemirror_mode": {
    "name": "ipython",
    "version": 3
   },
   "file_extension": ".py",
   "mimetype": "text/x-python",
   "name": "python",
   "nbconvert_exporter": "python",
   "pygments_lexer": "ipython3",
   "version": "3.11.7"
  }
 },
 "nbformat": 4,
 "nbformat_minor": 5
}
