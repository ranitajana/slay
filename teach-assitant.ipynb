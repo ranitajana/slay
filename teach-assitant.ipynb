{
 "cells": [
  {
   "cell_type": "markdown",
   "id": "1c9dce5e-503a-4212-b676-70f9bfd08fae",
   "metadata": {},
   "source": [
    "#### This code takes input the Youtube URL of a lecture and a list of lesson plans and gives a structured lecture notes based on the key concepts (derived from the lesson plan)"
   ]
  },
  {
   "cell_type": "code",
   "execution_count": 1,
   "id": "76627a28-8fe2-40f9-a146-f107c4b10ada",
   "metadata": {},
   "outputs": [],
   "source": [
    "import functions as funcs"
   ]
  },
  {
   "cell_type": "markdown",
   "id": "c3d2a168-4940-4ba7-a069-e75d72f38d3a",
   "metadata": {},
   "source": [
    "#### Enter the Youtube URL here"
   ]
  },
  {
   "cell_type": "code",
   "execution_count": 2,
   "id": "795da039-f53a-4251-8af1-6db869acdc22",
   "metadata": {},
   "outputs": [
    {
     "name": "stdout",
     "output_type": "stream",
     "text": [
      "Downloading audio: How To ACTUALLY Deliver A Great Presentation\n",
      "Audio downloaded successfully!\n"
     ]
    }
   ],
   "source": [
    "#7 min\n",
    "youtube_url = 'https://www.youtube.com/watch?v=gaoxXFju6uo&t=1'\n",
    "# 18 min\n",
    "# youtube_url = 'https://www.youtube.com/watch?v=I4T--ycOpi0&t=63s'\n",
    "# 1 hr\n",
    "# youtube_url = 'https://www.youtube.com/watch?v=zjkBMFhNj_g'\n",
    "funcs.download_audio(youtube_url)"
   ]
  },
  {
   "cell_type": "markdown",
   "id": "854e5840-90f1-476e-837d-d88346429f32",
   "metadata": {},
   "source": [
    "#### Input audio file and lesson plan"
   ]
  },
  {
   "cell_type": "code",
   "execution_count": 3,
   "id": "623838a0-a2fd-404c-a988-a400e0122413",
   "metadata": {},
   "outputs": [],
   "source": [
    "input_audio = 'audio.mp3'\n",
    "lesson_plan = ['Outline your speech in memory friendly form', \n",
    "               'Write out everything on paper (or computer)',\n",
    "              'Subvocalize your speech without using visual cues', \n",
    "               'Memorize the first and last sentences word for word']\n",
    "# lesson_plan = ['Intro to OpenAI gpt 3.5 turbo model', \n",
    "#                'OpenAI GPT-3.5 Pricing difference vs GPT-3.0',\n",
    "#                'OpenAI GPT 3.5 models summary',\n",
    "#                'Sign up for an OpenAI account',\n",
    "#                'Create an OpenAI API Key',\n",
    "#                'Create Python script',\n",
    "#                'Install OpenAI Python package',\n",
    "#                'open.ChatCompletion library usage',\n",
    "#                'Track ChatGPT conversation',\n",
    "#                'Make the Python script runs like ChatGPT'\n",
    "#               ]\n",
    "\n",
    "# lesson_plan = ['Intro: Large Language Model (LLM) talk',\n",
    "#         'LLM Inference', 'LLM Training', 'LLM dreams', 'How LLM works?', \n",
    "#         'Finetuning into an Assistant',\n",
    "#         'Appendix: Comparisons, Labeling docs, RLHF, Synthetic data, Leaderboard',\n",
    "#         'LLM Scaling Laws', 'Tool Use (Browser, Calculator, Interpreter, DALL-E)'\n",
    "#         'Multimodality (Vision, Audio)',\n",
    "#         'Thinking, System 1/2','Self-improvement, LLM AlphaGo',\n",
    "#         'LLM Customization','GPTs store','LLM OS',\n",
    "#         'LLM Security Intro','Jailbreaks','Prompt Injection','Data poisoning','LLM Security conclusions']"
   ]
  },
  {
   "cell_type": "markdown",
   "id": "244e7bb6-4ae8-43f0-9162-89c5517595e3",
   "metadata": {},
   "source": [
    "#### Call Deepgram for speech to text conversion"
   ]
  },
  {
   "cell_type": "code",
   "execution_count": 4,
   "id": "02868ff0-d89a-439c-89d1-ce12846be7d2",
   "metadata": {},
   "outputs": [],
   "source": [
    "transcript, words = funcs.speech_to_text(input_audio)\n",
    "# funcs.save_transcript(transcript)"
   ]
  },
  {
   "cell_type": "code",
   "execution_count": 5,
   "id": "5bc5d288-5c11-4f83-998b-fbf1d44497a1",
   "metadata": {
    "scrolled": true
   },
   "outputs": [
    {
     "name": "stdout",
     "output_type": "stream",
     "text": [
      "Outline your speech in memory friendly form\n",
      "00:00:29.721 --> 00:01:35.926\n",
      "The first step in preparing a speech is to create an outline that is easy to remember. This involves breaking down the content into 3 to 5 key bullet points that flow logically from one to another. By structuring your speech in a way that makes sense to you, you can avoid the need for extensive memorization and ensure that your delivery is natural and authentic.\n",
      "\n",
      "Write out everything on paper (or computer)\n",
      "00:02:01.908 --> 00:04:16.195\n",
      "Once you have your outline, the next step is to expand upon each bullet point by writing out all the details, stories, and additional information that support your main ideas. This process helps you clarify your thoughts and ensure that your speech effectively communicates your message. It also allows you to identify and eliminate any unnecessary information that may detract from your key points.\n",
      "\n",
      "Subvocalize your speech without using visual cues\n",
      "00:04:16.195 --> 00:05:56.218\n",
      "Subvocalization involves practicing your speech by silently speaking the content aloud, focusing on the main points without relying on visual aids or written notes. This method helps you internalize the material and become comfortable with the flow of your speech. By avoiding visual cues and memorizing only the key points, you can deliver your speech confidently and adapt to any unexpected changes during your presentation.\n",
      "\n",
      "Memorize the first and last sentences word for word\n",
      "00:05:56.218 --> 00:07:09.026\n",
      "To make a strong impression on your audience, it is essential to memorize the opening and closing sentences of your speech. The first sentence should be engaging and captivating, drawing listeners in from the start. Similarly, the final sentence should provide a clear conclusion and leave a lasting impact on your audience. By mastering these key elements, you can effectively bookend your speech and ensure a memorable delivery.\n"
     ]
    }
   ],
   "source": [
    "srt_subtitles = funcs.subtitle(transcript, words)\n",
    "# print(srt_subtitles)\n",
    "notes = funcs.lecture_notes(lesson_plan, srt_subtitles)\n",
    "print(notes)"
   ]
  },
  {
   "cell_type": "code",
   "execution_count": 6,
   "id": "a16f0138-acc8-407a-aef4-7d8918770ece",
   "metadata": {},
   "outputs": [],
   "source": [
    "questions = funcs.ask_ques(notes)\n",
    "funcs.save_ques(questions)"
   ]
  }
 ],
 "metadata": {
  "kernelspec": {
   "display_name": "Python 3 (ipykernel)",
   "language": "python",
   "name": "python3"
  },
  "language_info": {
   "codemirror_mode": {
    "name": "ipython",
    "version": 3
   },
   "file_extension": ".py",
   "mimetype": "text/x-python",
   "name": "python",
   "nbconvert_exporter": "python",
   "pygments_lexer": "ipython3",
   "version": "3.11.7"
  }
 },
 "nbformat": 4,
 "nbformat_minor": 5
}
