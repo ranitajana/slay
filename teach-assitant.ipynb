{
 "cells": [
  {
   "cell_type": "markdown",
   "id": "1c9dce5e-503a-4212-b676-70f9bfd08fae",
   "metadata": {},
   "source": [
    "#### This code takes input the Youtube URL of a lecture and a list of lesson plans and gives a structured lecture notes based on the key concepts (derived from the lesson plan)"
   ]
  },
  {
   "cell_type": "code",
   "execution_count": 1,
   "id": "76627a28-8fe2-40f9-a146-f107c4b10ada",
   "metadata": {},
   "outputs": [],
   "source": [
    "import functions as funcs"
   ]
  },
  {
   "cell_type": "markdown",
   "id": "c3d2a168-4940-4ba7-a069-e75d72f38d3a",
   "metadata": {},
   "source": [
    "#### Enter the Youtube URL here"
   ]
  },
  {
   "cell_type": "code",
   "execution_count": 2,
   "id": "795da039-f53a-4251-8af1-6db869acdc22",
   "metadata": {},
   "outputs": [],
   "source": [
    "#7 min\n",
    "youtube_url = 'https://www.youtube.com/watch?v=gaoxXFju6uo&t=1'\n",
    "# 18 min\n",
    "# youtube_url = 'https://www.youtube.com/watch?v=I4T--ycOpi0&t=63s'\n",
    "# 1 hr\n",
    "# youtube_url = 'https://www.youtube.com/watch?v=zjkBMFhNj_g'\n",
    "# audio_url = funcs.download_audio(youtube_url)\n",
    "audio_content = funcs.download_buffer(youtube_url)"
   ]
  },
  {
   "cell_type": "markdown",
   "id": "854e5840-90f1-476e-837d-d88346429f32",
   "metadata": {},
   "source": [
    "#### Input audio file and lesson plan"
   ]
  },
  {
   "cell_type": "code",
   "execution_count": 3,
   "id": "623838a0-a2fd-404c-a988-a400e0122413",
   "metadata": {},
   "outputs": [],
   "source": [
    "# input_audio = 'audio.mp3'\n",
    "\n",
    "lesson_plan = 'Outline your speech in memory friendly form, Write out everything on paper (or computer), Subvocalize your speech without using visual cues, Memorize the first and last sentences word for word'\n",
    "# lesson_plan = 'Intro to OpenAI gpt 3.5 turbo model,OpenAI GPT-3.5 Pricing difference vs GPT-3.0,OpenAI GPT 3.5 models summary,Sign up for an OpenAI account,Create an OpenAI API Key,Create Python script,Install OpenAI Python package,open.ChatCompletion library usage,Track ChatGPT conversation,Make the Python script runs like ChatGPT'\n",
    "# lesson_plan = 'Intro; Large Language Model (LLM) talk,LLM Inference,LLM Training,LLM dreams,How LLM works?,Finetuning into an Assistant,Appendix: (Comparisons, Labeling docs, RLHF, Synthetic data, Leaderboard,LLM Scaling Laws,Tool Use (Browser, Calculator, Interpreter, DALL-E),Multimodality (Vision, Audio),Thinking, System 1/2,Self-improvement, LLM AlphaGo,LLM Customization,GPTs store,LLM OS,LLM Security Intro,Jailbreaks,Prompt Injection,Data poisoning,LLM Security conclusions'\n",
    "\n",
    "# lesson_plan = ['Outline your speech in memory friendly form', \n",
    "#                'Write out everything on paper (or computer)',\n",
    "#               'Subvocalize your speech without using visual cues', \n",
    "#                'Memorize the first and last sentences word for word']\n",
    "# lesson_plan = ['Intro to OpenAI gpt 3.5 turbo model', \n",
    "#                'OpenAI GPT-3.5 Pricing difference vs GPT-3.0',\n",
    "#                'OpenAI GPT 3.5 models summary',\n",
    "#                'Sign up for an OpenAI account',\n",
    "#                'Create an OpenAI API Key',\n",
    "#                'Create Python script',\n",
    "#                'Install OpenAI Python package',\n",
    "#                'open.ChatCompletion library usage',\n",
    "#                'Track ChatGPT conversation',\n",
    "#                'Make the Python script runs like ChatGPT'\n",
    "#               ]\n",
    "# lesson_plan = ['Intro: Large Language Model (LLM) talk',\n",
    "#         'LLM Inference', 'LLM Training', 'LLM dreams', 'How LLM works?', \n",
    "#         'Finetuning into an Assistant',\n",
    "#         'Appendix: Comparisons, Labeling docs, RLHF, Synthetic data, Leaderboard',\n",
    "#         'LLM Scaling Laws', 'Tool Use (Browser, Calculator, Interpreter, DALL-E)'\n",
    "#         'Multimodality (Vision, Audio)',\n",
    "#         'Thinking, System 1/2','Self-improvement, LLM AlphaGo',\n",
    "#         'LLM Customization','GPTs store','LLM OS',\n",
    "#         'LLM Security Intro','Jailbreaks','Prompt Injection','Data poisoning','LLM Security conclusions']"
   ]
  },
  {
   "cell_type": "markdown",
   "id": "244e7bb6-4ae8-43f0-9162-89c5517595e3",
   "metadata": {},
   "source": [
    "#### Call Deepgram for speech to text conversion"
   ]
  },
  {
   "cell_type": "code",
   "execution_count": 4,
   "id": "02868ff0-d89a-439c-89d1-ce12846be7d2",
   "metadata": {},
   "outputs": [],
   "source": [
    "transcript, words = funcs.speech_to_text(audio_content)"
   ]
  },
  {
   "cell_type": "code",
   "execution_count": 5,
   "id": "5bc5d288-5c11-4f83-998b-fbf1d44497a1",
   "metadata": {
    "scrolled": true
   },
   "outputs": [],
   "source": [
    "srt_subtitles = funcs.subtitle(transcript, words)\n",
    "notes = funcs.lecture_notes(lesson_plan, srt_subtitles)"
   ]
  },
  {
   "cell_type": "code",
   "execution_count": 6,
   "id": "4df7e0a9-7cec-4549-987f-29e793070680",
   "metadata": {},
   "outputs": [
    {
     "name": "stdout",
     "output_type": "stream",
     "text": [
      "Outline your speech in memory friendly form (00:00:29.625 - 00:01:35.770):\n",
      "The first step in preparing for a speech is to create an outline that is easy to remember. This involves breaking down your speech into 3 to 5 main points that flow logically from one to another. By chunking the information in this way, you can avoid the need for rote memorization and instead focus on the natural progression of your ideas. This method allows you to have a clear structure for your speech without the burden of memorizing every word.\n",
      "\n",
      "Write out everything on paper (or computer) (00:02:33.970 - 00:04:02.400):\n",
      "Once you have your outline, the next step is to flesh out each point with relevant details, stories, and supporting information. Writing everything down helps you organize your thoughts and ensures you have a comprehensive speech to work from. This process also allows you to refine your content by identifying and eliminating unnecessary details that do not contribute to your main points.\n",
      "\n",
      "Subvocalize your speech without using visual cues (00:04:02.400 - 00:05:56.475):\n",
      "Subvocalization involves mentally rehearsing your speech by quietly verbalizing the main points without relying on visual aids. This practice helps you internalize the structure and flow of your speech while avoiding the pitfalls of strict memorization. By subvocalizing, you can ensure that you understand the key points and can deliver them naturally without being tied to a script or visual prompts.\n",
      "\n",
      "Memorize the first and last sentences word for word (00:05:56.475 - 00:07:09.151):\n",
      "To make a strong impression on your audience, it is essential to memorize the opening and closing lines of your speech. The first sentence serves as a hook to capture attention, while the last sentence provides a sense of closure and finality. By committing these key sentences to memory, you can start and end your speech confidently and leave a lasting impact on your listeners.\n"
     ]
    }
   ],
   "source": [
    "print(notes)"
   ]
  },
  {
   "cell_type": "code",
   "execution_count": 7,
   "id": "14216319-e7bc-47df-92b1-0a60e786f087",
   "metadata": {},
   "outputs": [
    {
     "name": "stdout",
     "output_type": "stream",
     "text": [
      "311\n"
     ]
    }
   ],
   "source": [
    "print(len(notes.split()))"
   ]
  },
  {
   "cell_type": "code",
   "execution_count": 10,
   "id": "a16f0138-acc8-407a-aef4-7d8918770ece",
   "metadata": {},
   "outputs": [],
   "source": [
    "questions = funcs.ask_ques(notes)\n",
    "# ques, ans = funcs.save_ques(questions)"
   ]
  },
  {
   "cell_type": "code",
   "execution_count": 11,
   "id": "3f860e97-eb1b-428c-bcdc-ee7b120af638",
   "metadata": {},
   "outputs": [
    {
     "name": "stdout",
     "output_type": "stream",
     "text": [
      "{\n",
      "  \"questions\": [\n",
      "    {\n",
      "      \"question\": \"What is the first step in preparing for a speech?\",\n",
      "      \"options\": [\n",
      "        \"Creating an outline with 3 to 5 main points\",\n",
      "        \"Writing out everything on paper\",\n",
      "        \"Subvocalizing the speech without visual cues\",\n",
      "        \"Memorizing the first and last sentences\"\n",
      "      ],\n",
      "      \"answer\": \"Creating an outline with 3 to 5 main points\"\n",
      "    },\n",
      "    {\n",
      "      \"question\": \"Why is it important to write out everything on paper?\",\n",
      "      \"options\": [\n",
      "        \"To practice subvocalization\",\n",
      "        \"To memorize every word of the speech\",\n",
      "        \"To organize thoughts and refine content\",\n",
      "        \"To rely on visual cues for delivery\"\n",
      "      ],\n",
      "      \"answer\": \"To organize thoughts and refine content\"\n",
      "    },\n",
      "    {\n",
      "      \"question\": \"What does subvocalization involve?\",\n",
      "      \"options\": [\n",
      "        \"Mentally rehearsing without verbalizing\",\n",
      "        \"Relying solely on visual aids\",\n",
      "        \"Memorizing every detail of the speech\",\n",
      "        \"Quietly verbalizing main points without visual cues\"\n",
      "      ],\n",
      "      \"answer\": \"Quietly verbalizing main points without visual cues\"\n",
      "    },\n",
      "    {\n",
      "      \"question\": \"Which sentences should be memorized word for word?\",\n",
      "      \"options\": [\n",
      "        \"The middle sentences of the speech\",\n",
      "        \"The opening and closing sentences\",\n",
      "        \"The supporting details and stories\",\n",
      "        \"The outline points\"\n",
      "      ],\n",
      "      \"answer\": \"The opening and closing sentences\"\n",
      "    },\n",
      "    {\n",
      "      \"question\": \"What is the purpose of memorizing the first and last sentences of a speech?\",\n",
      "      \"options\": [\n",
      "        \"To confuse the audience\",\n",
      "        \"To ensure a natural flow of ideas\",\n",
      "        \"To capture attention and provide closure\",\n",
      "        \"To rely on visual prompts\"\n",
      "      ],\n",
      "      \"answer\": \"To capture attention and provide closure\"\n",
      "    }\n",
      "  ]\n",
      "}\n"
     ]
    }
   ],
   "source": [
    "print(questions)"
   ]
  },
  {
   "cell_type": "code",
   "execution_count": 9,
   "id": "ca8a9679-f724-41b0-aef1-7c0ebd646d2d",
   "metadata": {},
   "outputs": [
    {
     "name": "stdout",
     "output_type": "stream",
     "text": [
      "('What library is used within the Python script to interact with the GPT-3.5 Turbo model?', ['ChatBot', 'ChatGPT', 'ChatAI', 'ChatCompletion'])\n",
      "ChatCompletion\n"
     ]
    }
   ],
   "source": [
    "print(ques[4])\n",
    "print(ans[4])"
   ]
  },
  {
   "cell_type": "code",
   "execution_count": null,
   "id": "c9e098aa-5c9e-49ae-af6d-76029bf9cd68",
   "metadata": {},
   "outputs": [],
   "source": []
  }
 ],
 "metadata": {
  "kernelspec": {
   "display_name": "Python 3 (ipykernel)",
   "language": "python",
   "name": "python3"
  },
  "language_info": {
   "codemirror_mode": {
    "name": "ipython",
    "version": 3
   },
   "file_extension": ".py",
   "mimetype": "text/x-python",
   "name": "python",
   "nbconvert_exporter": "python",
   "pygments_lexer": "ipython3",
   "version": "3.11.7"
  }
 },
 "nbformat": 4,
 "nbformat_minor": 5
}
