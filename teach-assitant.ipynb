{
 "cells": [
  {
   "cell_type": "markdown",
   "id": "1c9dce5e-503a-4212-b676-70f9bfd08fae",
   "metadata": {},
   "source": [
    "#### This code takes input the Youtube URL of a lecture and a list of lesson plans and gives a structured lecture notes based on the key concepts (derived from the lesson plan)"
   ]
  },
  {
   "cell_type": "code",
   "execution_count": 1,
   "id": "76627a28-8fe2-40f9-a146-f107c4b10ada",
   "metadata": {},
   "outputs": [],
   "source": [
    "import functions as funcs"
   ]
  },
  {
   "cell_type": "markdown",
   "id": "c3d2a168-4940-4ba7-a069-e75d72f38d3a",
   "metadata": {},
   "source": [
    "#### Enter the Youtube URL here"
   ]
  },
  {
   "cell_type": "code",
   "execution_count": 2,
   "id": "795da039-f53a-4251-8af1-6db869acdc22",
   "metadata": {},
   "outputs": [
    {
     "name": "stdout",
     "output_type": "stream",
     "text": [
      "Downloading audio: How To ACTUALLY Deliver A Great Presentation\n",
      "Audio downloaded successfully!\n"
     ]
    }
   ],
   "source": [
    "youtube_url = 'https://www.youtube.com/watch?v=gaoxXFju6uo&t=1s'\n",
    "funcs.download_audio(youtube_url)"
   ]
  },
  {
   "cell_type": "markdown",
   "id": "854e5840-90f1-476e-837d-d88346429f32",
   "metadata": {},
   "source": [
    "#### Input audio file and lesson plan"
   ]
  },
  {
   "cell_type": "code",
   "execution_count": 3,
   "id": "623838a0-a2fd-404c-a988-a400e0122413",
   "metadata": {},
   "outputs": [],
   "source": [
    "input_audio = 'audio.mp3'\n",
    "lesson_plan = ['Outline your speech in memory friendly form', \n",
    "               'Write out everything on paper (or computer)',\n",
    "              'Subvocalize your speech without using visual cues', \n",
    "               'Memorize the first and last sentences word for word']"
   ]
  },
  {
   "cell_type": "markdown",
   "id": "244e7bb6-4ae8-43f0-9162-89c5517595e3",
   "metadata": {},
   "source": [
    "#### Call Deepgram for speech to text conversion"
   ]
  },
  {
   "cell_type": "code",
   "execution_count": 4,
   "id": "02868ff0-d89a-439c-89d1-ce12846be7d2",
   "metadata": {},
   "outputs": [],
   "source": [
    "transcript, words = funcs.speech_to_text(input_audio)\n",
    "# funcs.save_transcript(transcript)\n",
    "srt_subtitles = funcs.subtitle(transcript, words)"
   ]
  },
  {
   "cell_type": "code",
   "execution_count": 5,
   "id": "5bc5d288-5c11-4f83-998b-fbf1d44497a1",
   "metadata": {},
   "outputs": [
    {
     "name": "stdout",
     "output_type": "stream",
     "text": [
      "Outline your speech in memory friendly form\n",
      "00:00:29.721 --> 00:00:36.093\n",
      "The first step in preparing for a speech is to create an outline that is easy to remember. This involves breaking down your speech into 3 to 5 key bullet points that flow logically from one to another. By chunking the information in this way, you can avoid the need for extensive memorization and ensure that your speech comes across as natural and authentic.\n",
      "\n",
      "Write out everything on paper (or computer)\n",
      "00:02:34.087 --> 00:02:43.848\n",
      "Once you have your outline, the next step is to flesh out your speech by writing down all the details and stories that support each bullet point. This process helps you clarify your main points and identify any unnecessary information that can be omitted. By having everything written out, you can ensure that your speech is well-structured and coherent.\n",
      "\n",
      "Subvocalize your speech without using visual cues\n",
      "00:02:38.001 --> 00:03:07.061\n",
      "After you have written out your speech, the next step is to subvocalize it without relying on visual cues. This means going through your speech while whispering the main points to yourself, ensuring that you understand the flow and structure of your presentation. By practicing in this way, you can internalize your speech and deliver it confidently without the need for constant reference to notes or slides.\n",
      "\n",
      "Memorize the first and last sentences word for word\n",
      "00:04:19.772 --> 00:04:50.676\n",
      "To make a strong impression on your audience, it is essential to memorize the first and last sentences of your speech word for word. The first sentence should grab the audience's attention and set the tone for your presentation, while the last sentence should provide a clear and impactful conclusion. By focusing on memorizing these key elements, you can ensure that your speech starts and ends on a high note, leaving a lasting impact on your listeners.\n"
     ]
    }
   ],
   "source": [
    "notes = funcs.lecture_notes(lesson_plan, srt_subtitles)\n",
    "print(notes)"
   ]
  },
  {
   "cell_type": "code",
   "execution_count": null,
   "id": "a16f0138-acc8-407a-aef4-7d8918770ece",
   "metadata": {},
   "outputs": [],
   "source": [
    "# def ask_ques(notes):\n",
    "#     # Prepare the prompt for GPT-3.5\n",
    "#     prompt = f\"Given the following lesson plan:\\n{lesson_plan}\\n\\nAnd the transcript:\\n{transcript}\\n\\n Divide the whole transcript into paragraphs for each topic in the lesson plan and also add the timestamp for each topic\"\n",
    "#     response = openai.ChatCompletion.create(\n",
    "#         model = \"gpt-3.5-turbo\",\n",
    "#         messages=[\n",
    "#         {\"role\": \"system\", \"content\": \"You are a helpful assistant. You answer what is asked without any introduction and followup narrative.\"},\n",
    "#         {\"role\": \"user\", \"content\": prompt}\n",
    "#         ],\n",
    "#         # max_tokens=1000,\n",
    "#         # n=1,\n",
    "#         # stop=None,\n",
    "#         temperature=0.\n",
    "#     )\n",
    "\n",
    "#     # Extract the generated notes from the API response\n",
    "#     structured_notes = response.choices[0].message.content\n",
    "#     return structured_notes\n",
    "\n",
    "# notes = generate_structured_notes(lesson_plan, srt_subtitles)\n",
    "# print(notes)"
   ]
  }
 ],
 "metadata": {
  "kernelspec": {
   "display_name": "Python 3 (ipykernel)",
   "language": "python",
   "name": "python3"
  },
  "language_info": {
   "codemirror_mode": {
    "name": "ipython",
    "version": 3
   },
   "file_extension": ".py",
   "mimetype": "text/x-python",
   "name": "python",
   "nbconvert_exporter": "python",
   "pygments_lexer": "ipython3",
   "version": "3.11.7"
  }
 },
 "nbformat": 4,
 "nbformat_minor": 5
}
