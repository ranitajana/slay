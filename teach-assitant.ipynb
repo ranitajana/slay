{
 "cells": [
  {
   "cell_type": "markdown",
   "id": "1c9dce5e-503a-4212-b676-70f9bfd08fae",
   "metadata": {},
   "source": [
    "#### This code takes input the Youtube URL of a lecture and a list of lesson plans and gives a structured lecture notes based on the key concepts (derived from the lesson plan)"
   ]
  },
  {
   "cell_type": "code",
   "execution_count": 1,
   "id": "76627a28-8fe2-40f9-a146-f107c4b10ada",
   "metadata": {},
   "outputs": [],
   "source": [
    "import functions as funcs"
   ]
  },
  {
   "cell_type": "markdown",
   "id": "c3d2a168-4940-4ba7-a069-e75d72f38d3a",
   "metadata": {},
   "source": [
    "#### Enter the Youtube URL here"
   ]
  },
  {
   "cell_type": "code",
   "execution_count": 2,
   "id": "795da039-f53a-4251-8af1-6db869acdc22",
   "metadata": {},
   "outputs": [
    {
     "name": "stdout",
     "output_type": "stream",
     "text": [
      "Downloading audio: How To ACTUALLY Deliver A Great Presentation\n",
      "Audio downloaded successfully!\n"
     ]
    }
   ],
   "source": [
    "#7 min\n",
    "youtube_url = 'https://www.youtube.com/watch?v=gaoxXFju6uo&t=1'\n",
    "# 18 min\n",
    "# youtube_url = 'https://www.youtube.com/watch?v=I4T--ycOpi0&t=63s'\n",
    "# 1 hr\n",
    "# youtube_url = 'https://www.youtube.com/watch?v=zjkBMFhNj_g'\n",
    "funcs.download_audio(youtube_url)"
   ]
  },
  {
   "cell_type": "markdown",
   "id": "854e5840-90f1-476e-837d-d88346429f32",
   "metadata": {},
   "source": [
    "#### Input audio file and lesson plan"
   ]
  },
  {
   "cell_type": "code",
   "execution_count": 3,
   "id": "623838a0-a2fd-404c-a988-a400e0122413",
   "metadata": {},
   "outputs": [],
   "source": [
    "input_audio = 'audio.mp3'\n",
    "lesson_plan = ['Outline your speech in memory friendly form', \n",
    "               'Write out everything on paper (or computer)',\n",
    "              'Subvocalize your speech without using visual cues', \n",
    "               'Memorize the first and last sentences word for word']\n",
    "# lesson_plan = ['Intro to OpenAI gpt 3.5 turbo model', \n",
    "#                'OpenAI GPT-3.5 Pricing difference vs GPT-3.0',\n",
    "#                'OpenAI GPT 3.5 models summary',\n",
    "#                'Sign up for an OpenAI account',\n",
    "#                'Create an OpenAI API Key',\n",
    "#                'Create Python script',\n",
    "#                'Install OpenAI Python package',\n",
    "#                'open.ChatCompletion library usage',\n",
    "#                'Track ChatGPT conversation',\n",
    "#                'Make the Python script runs like ChatGPT'\n",
    "#               ]\n",
    "\n",
    "# lesson_plan = ['Intro: Large Language Model (LLM) talk',\n",
    "#         'LLM Inference', 'LLM Training', 'LLM dreams', 'How LLM works?', \n",
    "#         'Finetuning into an Assistant',\n",
    "#         'Appendix: Comparisons, Labeling docs, RLHF, Synthetic data, Leaderboard',\n",
    "#         'LLM Scaling Laws', 'Tool Use (Browser, Calculator, Interpreter, DALL-E)'\n",
    "#         'Multimodality (Vision, Audio)',\n",
    "#         'Thinking, System 1/2','Self-improvement, LLM AlphaGo',\n",
    "#         'LLM Customization','GPTs store','LLM OS',\n",
    "#         'LLM Security Intro','Jailbreaks','Prompt Injection','Data poisoning','LLM Security conclusions']"
   ]
  },
  {
   "cell_type": "markdown",
   "id": "244e7bb6-4ae8-43f0-9162-89c5517595e3",
   "metadata": {},
   "source": [
    "#### Call Deepgram for speech to text conversion"
   ]
  },
  {
   "cell_type": "code",
   "execution_count": 4,
   "id": "02868ff0-d89a-439c-89d1-ce12846be7d2",
   "metadata": {},
   "outputs": [],
   "source": [
    "transcript, words = funcs.speech_to_text(input_audio)\n",
    "# funcs.save_transcript(transcript)"
   ]
  },
  {
   "cell_type": "code",
   "execution_count": 5,
   "id": "5bc5d288-5c11-4f83-998b-fbf1d44497a1",
   "metadata": {
    "scrolled": true
   },
   "outputs": [
    {
     "name": "stdout",
     "output_type": "stream",
     "text": [
      "Outline your speech in memory friendly form\n",
      "00:00:29.721 --> 00:01:29.483\n",
      "Creating an outline for your speech is crucial to ensure it is easy to remember and flows smoothly. The outline should consist of 3 to 5 bullet points that are structured in a way that makes sense to you. By chunking the information into manageable sections, you can avoid the need for extensive memorization and ensure that your speech comes across as natural and authentic.\n",
      "\n",
      "Write out everything on paper (or computer)\n",
      "00:02:01.908 --> 00:04:01.613\n",
      "Once you have your outline, it's important to flesh out your speech by writing down all the details, stories, and additional information under each bullet point. This process helps you clarify your main points and ensures that you have a comprehensive understanding of the content you want to deliver. By organizing your thoughts on paper, you can refine your message and eliminate unnecessary details that do not support your purpose.\n",
      "\n",
      "Subvocalize your speech without using visual cues\n",
      "00:04:14.366 --> 00:05:56.670\n",
      "Subvocalizing your speech involves going through the entire content while whispering to yourself, focusing on the main bullet points without relying on visual cues. This practice helps you internalize the structure and flow of your speech, ensuring that you can deliver it confidently without the need for constant reference to notes or slides. By avoiding strict memorization and allowing for flexibility in your delivery, you can engage your audience effectively and maintain a natural speaking style.\n",
      "\n",
      "Memorize the first and last sentences word for word\n",
      "00:05:56.943 --> 00:07:09.026\n",
      "Memorizing the first and last sentences of your speech is essential for creating a strong opening and closing that leave a lasting impact on your audience. By nailing the first sentence with a compelling hook and crafting a conclusive final statement, you can bookend your speech effectively and guide your listeners through a coherent narrative. These memorized phrases serve as anchor points that help you maintain structure and confidence throughout your presentation.\n"
     ]
    }
   ],
   "source": [
    "srt_subtitles = funcs.subtitle(transcript, words)\n",
    "# print(srt_subtitles)\n",
    "notes = funcs.lecture_notes(lesson_plan, srt_subtitles)\n",
    "print(notes)"
   ]
  },
  {
   "cell_type": "code",
   "execution_count": 6,
   "id": "a16f0138-acc8-407a-aef4-7d8918770ece",
   "metadata": {},
   "outputs": [],
   "source": [
    "questions = funcs.ask_ques(notes)\n",
    "ques, ans = funcs.save_ques(questions)"
   ]
  },
  {
   "cell_type": "code",
   "execution_count": 7,
   "id": "c9e00926-88e5-4847-989b-8ba71fecbfc4",
   "metadata": {},
   "outputs": [
    {
     "name": "stdout",
     "output_type": "stream",
     "text": [
      "(5, 5)\n"
     ]
    }
   ],
   "source": [
    "import numpy as np\n",
    "print(np.shape(ques))"
   ]
  },
  {
   "cell_type": "code",
   "execution_count": 9,
   "id": "03454cf2-fd51-455c-a783-0b62a17cd792",
   "metadata": {},
   "outputs": [
    {
     "name": "stdout",
     "output_type": "stream",
     "text": [
      "['What is the purpose of creating an outline for your speech?', 'To make it difficult to remember', 'To ensure it flows smoothly and is easy to remember', 'To confuse the audience', 'To add unnecessary details']\n"
     ]
    },
    {
     "ename": "NameError",
     "evalue": "name 'answers' is not defined",
     "output_type": "error",
     "traceback": [
      "\u001b[0;31m---------------------------------------------------------------------------\u001b[0m",
      "\u001b[0;31mNameError\u001b[0m                                 Traceback (most recent call last)",
      "Cell \u001b[0;32mIn[9], line 2\u001b[0m\n\u001b[1;32m      1\u001b[0m \u001b[38;5;28mprint\u001b[39m(ques[\u001b[38;5;241m0\u001b[39m])\n\u001b[0;32m----> 2\u001b[0m \u001b[38;5;28mprint\u001b[39m(\u001b[43manswers\u001b[49m[\u001b[38;5;241m0\u001b[39m])\n",
      "\u001b[0;31mNameError\u001b[0m: name 'answers' is not defined"
     ]
    }
   ],
   "source": [
    "print(ques[0])\n",
    "print(answers[0])"
   ]
  },
  {
   "cell_type": "code",
   "execution_count": null,
   "id": "fd625f6e-7c53-4086-9969-2b1a31b1c2c0",
   "metadata": {},
   "outputs": [],
   "source": []
  }
 ],
 "metadata": {
  "kernelspec": {
   "display_name": "Python 3 (ipykernel)",
   "language": "python",
   "name": "python3"
  },
  "language_info": {
   "codemirror_mode": {
    "name": "ipython",
    "version": 3
   },
   "file_extension": ".py",
   "mimetype": "text/x-python",
   "name": "python",
   "nbconvert_exporter": "python",
   "pygments_lexer": "ipython3",
   "version": "3.11.7"
  }
 },
 "nbformat": 4,
 "nbformat_minor": 5
}
